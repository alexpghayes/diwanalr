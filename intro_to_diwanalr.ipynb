{
 "cells": [
  {
   "cell_type": "markdown",
   "metadata": {},
   "source": [
    "### An introduction to the *diwanalr* package"
   ]
  },
  {
   "cell_type": "markdown",
   "metadata": {},
   "source": [
    "The ***diwanalr*** (**di**ffusing-**wa**ve spectroscopy (DWS) **anal**ysis using **R**) package contains a number of functions suitable for analysing DWS data. The package utilises two R packages, 'tidyverse' and 'ggplot2', in its implementation.\n",
    "\n",
    "DWS is derived from dynamic light scattering which is an optical technique that studies the dynamics of scattered light. If carefully calibrated, DWS allows the quantitative measurement of microscopic motion in a soft material from which micro-rheology can be used to determine the rheological properties of a complex medium.\n",
    "\n",
    "Research capability exists which allows the application of DWS to food systems. In some instances, the analysis of data resulting from such capability can be tedious (e.g. using spreadsheets). This package is intended to allow users of such capability to perform analysis of DWS data in a more straightforward manner.\n"
   ]
  },
  {
   "cell_type": "markdown",
   "metadata": {},
   "source": [
    "If needed, the diwanalr package can be downloaded using:"
   ]
  },
  {
   "cell_type": "code",
   "execution_count": null,
   "metadata": {},
   "outputs": [],
   "source": [
    "#install.packages(\"devtools\") - \n",
    "devtools::install_github(\"peterjwatkins/diwanalr\", force=TRUE)"
   ]
  },
  {
   "cell_type": "code",
   "execution_count": null,
   "metadata": {},
   "outputs": [],
   "source": [
    "library(diwanalr)"
   ]
  },
  {
   "cell_type": "markdown",
   "metadata": {},
   "source": [
    "One proposed workflow involves the calculation of the storage and loss moduli. The workflow consists of three steps:"
   ]
  },
  {
   "cell_type": "markdown",
   "metadata": {},
   "source": [
    "1 - The temporal autocorrelation function, *g*$_{1}$(*t*)"
   ]
  },
  {
   "cell_type": "markdown",
   "metadata": {},
   "source": [
    "In some cases, the output generated from research equipment consists of a CSV file, with two columns; the first being the correlation time while the second is the measured value of the intensity autocorrelation function, noted as *g*$_{2}$(*t*). This latter function, *g*$_{2}$(*t*), is related to *g*$_{1}$(*t*) by the Seigert relationship where *g*$_{2}$(*t*) = 1 + |*g*$_{1}$(*t*)|$^{2}$. The function, *calc_g1*, accepts a tibble consisting measured correlation times and *g*$_{2}$(*t*) values and produces a tibble with the associated *g*$_{1}$(*t*) and the scaled values, ranging from 0 to approximately 1. Some functionality is provided to allow the user to set an appropriate normalisation value. The function *plot_g1* can be used to visualise the output data. "
   ]
  },
  {
   "cell_type": "markdown",
   "metadata": {},
   "source": [
    "A sample dataset, *dws*, is available with the package."
   ]
  },
  {
   "cell_type": "code",
   "execution_count": 59,
   "metadata": {},
   "outputs": [
    {
     "name": "stdout",
     "output_type": "stream",
     "text": [
      "'data.frame':\t288 obs. of  2 variables:\n",
      " $ time: num  1.25e-08 2.50e-08 3.75e-08 5.00e-08 6.25e-08 7.50e-08 8.75e-08 1.00e-07 1.13e-07 1.25e-07 ...\n",
      " $ g2  : num  1.89 1.86 1.88 1.88 1.84 1.9 1.87 1.94 1.9 1.88 ...\n"
     ]
    }
   ],
   "source": [
    "data(dws)\n",
    "## Note: column headings - time and g2 needed for later functions\n",
    "str(dws)"
   ]
  },
  {
   "cell_type": "code",
   "execution_count": 60,
   "metadata": {},
   "outputs": [
    {
     "name": "stdout",
     "output_type": "stream",
     "text": [
      "'data.frame':\t201 obs. of  3 variables:\n",
      " $ time    : num  1.25e-08 2.50e-08 3.75e-08 5.00e-08 6.25e-08 7.50e-08 8.75e-08 1.00e-07 1.13e-07 1.25e-07 ...\n",
      " $ Observed: num  0.943 0.927 0.938 0.938 0.917 ...\n",
      " $ Scaled  : num  1.008 0.991 1.002 1.002 0.979 ...\n"
     ]
    }
   ],
   "source": [
    "d <- calc_g1(dws) # calc_g1 has an optional parameter, n, used for scaling g2 to g1 - the default value is 30\n",
    "str(d)"
   ]
  },
  {
   "cell_type": "code",
   "execution_count": 61,
   "metadata": {},
   "outputs": [
    {
     "data": {},
     "metadata": {},
     "output_type": "display_data"
    },
    {
     "data": {
      "image/png": "[encoded data removed]",
      "text/plain": [
       "plot without title"
      ]
     },
     "metadata": {},
     "output_type": "display_data"
    }
   ],
   "source": [
    "plot_g1(d)"
   ]
  },
  {
   "cell_type": "markdown",
   "metadata": {},
   "source": [
    "2 - The mean square displacement."
   ]
  },
  {
   "cell_type": "markdown",
   "metadata": {},
   "source": [
    "The next stage involves calculating the mean square displacement (MSD), based on the scaled *g*$_{1}$(*t*) values. This involves finding the value that minimises a complex equation with the *g*$_{1}$(*t*) values. The calculation is based on Eq. 16-39b reported in Weitz and Pine, \"Diffusing-wave spectroscopy\" in Dynamic Light Scattering (ed Wyn Brown), OUP, 1993, pp. 652-720. Readers are encouraged to consult the reference for further detail. The function, *calc_msd* is used for this purpose, accepting the output from *calc_g1* and returning a tibble with the time and related MSD. The function *plot_msd* is available to visualise the output data."
   ]
  },
  {
   "cell_type": "code",
   "execution_count": 62,
   "metadata": {},
   "outputs": [
    {
     "name": "stdout",
     "output_type": "stream",
     "text": [
      "'data.frame':\t156 obs. of  2 variables:\n",
      " $ time: num  2.50e-08 6.25e-08 8.75e-08 1.38e-07 1.50e-07 1.63e-07 2.00e-07 2.50e-07 2.75e-07 3.00e-07 ...\n",
      " $ msd : num  1.46e-17 2.19e-17 8.96e-18 2.19e-17 2.49e-17 ...\n",
      " - attr(*, \"na.action\")= 'omit' Named int  1 3 4 6 8 9 10 14 15 17 ...\n",
      "  ..- attr(*, \"names\")= chr  \"1\" \"3\" \"4\" \"6\" ...\n"
     ]
    }
   ],
   "source": [
    "e <- calc_msd(d)\n",
    "str(e)"
   ]
  },
  {
   "cell_type": "code",
   "execution_count": 63,
   "metadata": {},
   "outputs": [
    {
     "data": {},
     "metadata": {},
     "output_type": "display_data"
    },
    {
     "data": {
      "image/png": "[encoded data removed]",
      "text/plain": [
       "plot without title"
      ]
     },
     "metadata": {},
     "output_type": "display_data"
    }
   ],
   "source": [
    "plot_msd(e)"
   ]
  },
  {
   "cell_type": "markdown",
   "metadata": {},
   "source": [
    "3 - The viscoelastic, storage and loss moduli."
   ]
  },
  {
   "cell_type": "markdown",
   "metadata": {},
   "source": [
    "The last stage is to determine the viscoelastic modulus (*G*) from the mean square displacement, which is then used to determine the related storage and loss moduli. The function, *calc_modulus* is used for this purpose, accepting the output from *calc_msd* and returning a tibble with the time and related storage (*G'*) and loss (*G''*) moduli. The function *plot_modulus* is available to visualise the output data."
   ]
  },
  {
   "cell_type": "code",
   "execution_count": 64,
   "metadata": {},
   "outputs": [
    {
     "name": "stdout",
     "output_type": "stream",
     "text": [
      "Classes 'tbl_df', 'tbl' and 'data.frame':\t154 obs. of  3 variables:\n",
      " $ freq        : num  16000000 11428571 7246377 6666667 6134969 ...\n",
      " $ Storage (G'): num  94.2 299.1 -62.7 41.2 -80.4 ...\n",
      "  ..- attr(*, \"na.action\")= 'omit' int  1 156\n",
      " $ Loss (G'')  : num  -32.64 53.4 8.05 104.51 -22.79 ...\n",
      "  ..- attr(*, \"na.action\")= 'omit' int  1 156\n"
     ]
    }
   ],
   "source": [
    "f <- calc_modulus(e)\n",
    "str(f)"
   ]
  },
  {
   "cell_type": "code",
   "execution_count": 65,
   "metadata": {},
   "outputs": [
    {
     "name": "stderr",
     "output_type": "stream",
     "text": [
      "Warning message in self$trans$transform(x):\n",
      "\"NaNs produced\"Warning message:\n",
      "\"Transformation introduced infinite values in continuous y-axis\"Warning message:\n",
      "\"Removed 165 rows containing missing values (geom_point).\""
     ]
    },
    {
     "data": {},
     "metadata": {},
     "output_type": "display_data"
    },
    {
     "data": {
      "image/png": "[encoded data removed]",
      "text/plain": [
       "plot without title"
      ]
     },
     "metadata": {},
     "output_type": "display_data"
    }
   ],
   "source": [
    "plot_modulus(f)"
   ]
  },
  {
   "cell_type": "code",
   "execution_count": null,
   "metadata": {},
   "outputs": [],
   "source": []
  }
 ],
 "metadata": {
  "kernelspec": {
   "display_name": "R 3.5.0",
   "language": "R",
   "name": "ir35"
  },
  "language_info": {
   "codemirror_mode": "r",
   "file_extension": ".r",
   "mimetype": "text/x-r-source",
   "name": "R",
   "pygments_lexer": "r",
   "version": "3.5.0"
  }
 },
 "nbformat": 4,
 "nbformat_minor": 2
}
