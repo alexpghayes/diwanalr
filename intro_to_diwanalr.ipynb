{
 "cells": [
  {
   "cell_type": "markdown",
   "metadata": {},
   "source": [
    "### An introduction to the *diwanalr* package"
   ]
  },
  {
   "cell_type": "markdown",
   "metadata": {},
   "source": [
    "The ***diwanalr*** (**di**ffusing-**wa**ve spectroscopy (DWS) **anal**ysis using **R**) package contains a number of functions suitable for analysing DWS data. The package utilises two R packages, 'tidyverse' and 'ggplot2', in its implementation.\n",
    "\n",
    "DWS is derived from dynamic light scattering which is an optical technique that studies the dynamics of scattered light. If carefully calibrated, DWS allows the quantitative measurement of microscopic motion in a soft material from which micro-rheology can be used to determine the rheological properties of a complex medium.\n",
    "\n",
    "Research capability exists which allows the application of DWS to food systems. In some instances, the analysis of data resulting from such capability can be tedious (e.g. using spreadsheets). This package is intended to allow users of such capability to perform analysis of DWS data in a more straightforward manner.\n"
   ]
  },
  {
   "cell_type": "markdown",
   "metadata": {},
   "source": [
    "If needed, the diwanalr package can be downloaded using:"
   ]
  },
  {
   "cell_type": "code",
   "execution_count": null,
   "metadata": {},
   "outputs": [],
   "source": [
    "install.packages(\"devtools\") \n",
    "devtools::install_github(\"peterjwatkins/diwanalr\", force=TRUE)"
   ]
  },
  {
   "cell_type": "code",
   "execution_count": null,
   "metadata": {},
   "outputs": [],
   "source": [
    "library(diwanalr)"
   ]
  },
  {
   "cell_type": "markdown",
   "metadata": {},
   "source": [
    "One proposed workflow involves the calculation of the storage and loss moduli. The workflow consists of three steps:"
   ]
  },
  {
   "cell_type": "markdown",
   "metadata": {},
   "source": [
    "1 - *The temporal autocorrelation function*, *g*$_{1}$(*t*)"
   ]
  },
  {
   "cell_type": "markdown",
   "metadata": {},
   "source": [
    "In some cases, the output generated from research equipment consists of a CSV file, with two columns; the first being the correlation time while the second is the measured value of the intensity autocorrelation function, noted as *g*$_{2}$(*t*). This latter function, *g*$_{2}$(*t*), is related to *g*$_{1}$(*t*) by the Seigert relationship where *g*$_{2}$(*t*) = 1 + |*g*$_{1}$(*t*)|$^{2}$. The function, *calc_g1*, accepts a tibble consisting measured correlation times and *g*$_{2}$(*t*) values and produces a tibble with the associated *g*$_{1}$(*t*) and the scaled values, ranging from 0 to approximately 1. Some functionality is provided to allow the user to set an appropriate normalisation value. The function *plot_g1* can be used to visualise the output data. "
   ]
  },
  {
   "cell_type": "markdown",
   "metadata": {},
   "source": [
    "A sample dataset, *dws*, is available with the package."
   ]
  },
  {
   "cell_type": "code",
   "execution_count": null,
   "metadata": {},
   "outputs": [],
   "source": [
    "data(dws)\n",
    "## Note: column headings - time and g2 needed for later functions\n",
    "#str(dws)"
   ]
  },
  {
   "cell_type": "code",
   "execution_count": null,
   "metadata": {},
   "outputs": [],
   "source": [
    "d <- calc_g1(dws) # calc_g1 has an optional parameter, n, used for scaling g2 to g1 - the default value is 30\n",
    "#str(d)"
   ]
  },
  {
   "cell_type": "code",
   "execution_count": null,
   "metadata": {},
   "outputs": [],
   "source": [
    "gp <- plot_g1(d) ; gp"
   ]
  },
  {
   "cell_type": "markdown",
   "metadata": {},
   "source": [
    "2 - *The mean square displacement*."
   ]
  },
  {
   "cell_type": "markdown",
   "metadata": {},
   "source": [
    "The next stage involves calculating the mean square displacement (MSD) for transmission geometry, based on the scaled *g*$_{1}$(*t*) values. This involves finding the value of *t*  which minimises:"
   ]
  },
  {
   "cell_type": "markdown",
   "metadata": {},
   "source": [
    "> *g*$_{1}$(*t*) $\\approx \\frac{(\\frac{L}{l*}+\\frac{4}{3})\\sqrt{\\frac{6t}{\\tau}}}{(1+\\frac{8t}{3\\tau})sinh[\\frac{L}{l*}\\sqrt{\\frac{6t}{\\tau}}]+\\frac{4}{3}\\sqrt{\\frac{6t}{\\tau}}cosh[\\frac{L}{l*}\\sqrt{\\frac{6t}{\\tau}}]}$"
   ]
  },
  {
   "cell_type": "markdown",
   "metadata": {},
   "source": [
    "The equation is based on Eq. 16-39b reported in Weitz and Pine, \"Diffusing-wave spectroscopy\" in Dynamic Light Scattering (ed Wyn Brown), OUP, 1993, pp. 652-720. Readers are encouraged to consult the reference for further detail."
   ]
  },
  {
   "cell_type": "markdown",
   "metadata": {},
   "source": [
    "The function, *calc_msd* is used for this purpose, accepting the output from *calc_g1* and returning a tibble with the time and related MSD. The function *plot_msd* is available to visualise the output data."
   ]
  },
  {
   "cell_type": "markdown",
   "metadata": {},
   "source": [
    "Another commonly used geometry for DWS is backscattering. In this case, the related function is given by:"
   ]
  },
  {
   "cell_type": "markdown",
   "metadata": {},
   "source": [
    "> *g*$_{1}$(*t*) = $\\frac{exp[-\\frac{z}{l*}\\sqrt{\\frac{6t}{\\tau}}]}{1+\\frac{2}{3}\\sqrt{\\frac{6t}{\\tau}}}$\n",
    "\n",
    "(see Eq. 16-46 of the above reference), which will be implemented in future versions of the package."
   ]
  },
  {
   "cell_type": "code",
   "execution_count": null,
   "metadata": {},
   "outputs": [],
   "source": [
    "e <- calc_msd(d)\n",
    "#str(e)"
   ]
  },
  {
   "cell_type": "code",
   "execution_count": null,
   "metadata": {},
   "outputs": [],
   "source": [
    "ep <- plot_msd(e) ; ep"
   ]
  },
  {
   "cell_type": "markdown",
   "metadata": {},
   "source": [
    "3 - *The viscoelastic, storage and loss moduli*."
   ]
  },
  {
   "cell_type": "markdown",
   "metadata": {},
   "source": [
    "The last stage is to determine the viscoelastic modulus (*G*) from the mean square displacement, which is then used to determine the related storage and loss moduli. The function, *calc_modulus* is used for this purpose, accepting the output from *calc_msd* and returning a tibble with the time and related storage (*G'*) and loss (*G''*) moduli. The function *plot_modulus* is available to visualise the output data."
   ]
  },
  {
   "cell_type": "code",
   "execution_count": null,
   "metadata": {},
   "outputs": [],
   "source": [
    "f <- calc_modulus(e)\n",
    "#str(f)"
   ]
  },
  {
   "cell_type": "code",
   "execution_count": null,
   "metadata": {},
   "outputs": [],
   "source": [
    "fp <- plot_modulus(f) ; fp"
   ]
  }
 ],
 "metadata": {
  "kernelspec": {
   "display_name": "R 3.5.0",
   "language": "R",
   "name": "ir35"
  },
  "language_info": {
   "codemirror_mode": "r",
   "file_extension": ".r",
   "mimetype": "text/x-r-source",
   "name": "R",
   "pygments_lexer": "r",
   "version": "3.5.0"
  }
 },
 "nbformat": 4,
 "nbformat_minor": 2
}
